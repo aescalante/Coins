{
 "cells": [
  {
   "cell_type": "code",
   "execution_count": 1,
   "metadata": {
    "collapsed": false
   },
   "outputs": [
    {
     "name": "stdout",
     "output_type": "stream",
     "text": [
      "Data augmentation with brightness completed!\n"
     ]
    }
   ],
   "source": [
    "from PIL import Image;\n",
    "import numpy as np;\n",
    "import scipy as sci;\n",
    "import csv;\n",
    "import cv2;\n",
    "import matplotlib.pyplot as plt;\n",
    "import pandas as pd;\n",
    "import glob\n",
    "\n",
    "import time\n",
    "\n",
    "def TicTocGenerator():\n",
    "    # Generator that returns time differences\n",
    "    ti = 0           # initial time\n",
    "    tf = time.time() # final time\n",
    "    while True:\n",
    "        ti = tf\n",
    "        tf = time.time()\n",
    "        yield tf-ti # returns the time difference\n",
    "\n",
    "TicToc = TicTocGenerator() # create an instance of the TicTocGen generator\n",
    "\n",
    "# This will be the main function through which we define both tic() and toc()\n",
    "def toc(tempBool=True):\n",
    "    # Prints the time difference yielded by generator instance TicToc\n",
    "    tempTimeInterval = next(TicToc)\n",
    "    if tempBool:\n",
    "        print( \"Elapsed time: %f seconds.\\n\" %tempTimeInterval )\n",
    "\n",
    "def tic():\n",
    "    # Records a time in TicToc, marks the beginning of a time interval\n",
    "    toc(False)\n",
    "    \n",
    "inputDir = 'CandidateDataSet2/augmented_and_resized_RAW/2euro/'\n",
    "input_file = glob.glob(inputDir+\"*.jpg\")\n",
    "#input_file = [inputDir+\"P70216-135401_Candidate_1.jpg\"]  #For debugging\n",
    "\n",
    "outputDir = 'CandidateDataSet2/augmented_and_resized_brightness_RAW/2euro/' #CHANGE IT!\n",
    "brightness = [-100, -50, 0, 50, 100]\n",
    "ROWS = 100\n",
    "COLS = 100\n",
    "\n",
    "for kfile in input_file:\n",
    "    for kbright in brightness:\n",
    "        tic()\n",
    "        #print(\"Augmenting image \"+str(kfile))\n",
    "        im = Image.open(kfile) #Open image\n",
    "        imarray = np.array(im)\n",
    "        imarray = cv2.resize(imarray, (ROWS, COLS), interpolation=cv2.INTER_CUBIC)\n",
    "        #imarray = cv2.erode(imarray, None, 1) \n",
    "        hsv = cv2.cvtColor(imarray, cv2.COLOR_BGR2HSV) #Convert it to hsv\n",
    "        h, s, v = cv2.split(hsv)\n",
    "        v = v.astype(np.int16)\n",
    "        v += kbright\n",
    "        v = np.maximum(np.zeros(v.shape),v)\n",
    "        v = np.minimum(255*np.ones(v.shape),v)\n",
    "        v = v.astype(np.uint8)\n",
    "        final_hsv = cv2.merge((h, s, v))\n",
    "        img_bright = cv2.cvtColor(final_hsv, cv2.COLOR_HSV2BGR)\n",
    "        #plt.imshow(img_bright)\n",
    "        #plt.show()\n",
    "        \n",
    "        fileNamek = kfile.split(\"\\\\\")[1]\n",
    "        output_filename = outputDir+fileNamek.split(\".\")[0]+\"_Brightness_\"+str(kbright)+\".jpg\"\n",
    "        img = Image.fromarray(img_bright, 'RGB')\n",
    "        img.save(output_filename)\n",
    "        #print(output_filename)\n",
    "    #cv2.imwrite(\"image_processed.jpg\", img)\n",
    "    \n",
    "    \n",
    "    #for kAngle in angles:\n",
    "    #    M = cv2.getRotationMatrix2D((imarray.shape[1]/2,imarray.shape[0]/2),kAngle,1)\n",
    "    #    rotated_image = cv2.warpAffine(imarray,M,(imarray.shape[1],imarray.shape[0]))\n",
    "    #    plt.imshow(rotated_image)\n",
    "    #    plt.show()\n",
    "    #    fileNamek = kfile.split(\"\\\\\")[1]\n",
    "    #    output_filename = outputDir+fileNamek.split(\".\")[0]+\"_Aug_\"+str(kAngle)+\".jpg\"\n",
    "    #    img = Image.fromarray(rotated_image, 'RGB')\n",
    "    #    img.save(output_filename)\n",
    "print(\"Data augmentation with brightness completed!\")    "
   ]
  },
  {
   "cell_type": "code",
   "execution_count": null,
   "metadata": {
    "collapsed": false
   },
   "outputs": [],
   "source": [
    "print(kfile)"
   ]
  },
  {
   "cell_type": "markdown",
   "metadata": {
    "collapsed": false
   },
   "source": [
    "# Labeling Data\n"
   ]
  },
  {
   "cell_type": "code",
   "execution_count": null,
   "metadata": {
    "collapsed": false
   },
   "outputs": [],
   "source": [
    "def readLabels(inputDir):\n",
    "    #Reads the .csv files in order to initialize the data\n",
    "    \n",
    "    #For the train set\n",
    "    fileName = inputDir + 'labels.csv'\n",
    "    \n",
    "    dfLabels = pd.read_csv(fileName)\n",
    "    \n",
    "    return dfLabels\n",
    "\n",
    "dfLabels = readLabels(inputDir)\n",
    "dfLabelsAug = pd.DataFrame();\n",
    "\n",
    "for kName in range(0,len(dfLabels)):\n",
    "    fileNameRoot = dfLabels.iloc[kName,0]\n",
    "    fileNameRoot = fileNameRoot.split('.')[0]\n",
    "    fileName0 = fileNameRoot + '_Aug_0.jpg'\n",
    "    fileName90 = fileNameRoot + '_Aug_90.jpg'\n",
    "    fileName180 = fileNameRoot + '_Aug_180.jpg'\n",
    "    fileName270 = fileNameRoot + '_Aug_270.jpg'\n",
    "    fileNameAug = [fileName0,fileName90,fileName180,fileName270]\n",
    "    CoinorNoCoinAug = [dfLabels.iloc[kName,1],dfLabels.iloc[kName,1],dfLabels.iloc[kName,1],dfLabels.iloc[kName,1]]\n",
    "    GroupAug = [dfLabels.iloc[kName,2],dfLabels.iloc[kName,2],dfLabels.iloc[kName,2],dfLabels.iloc[kName,2]]\n",
    "    CoinTypeAug = [dfLabels.iloc[kName,3],dfLabels.iloc[kName,3],dfLabels.iloc[kName,3],dfLabels.iloc[kName,3]]\n",
    "    dfLabelsAugk = pd.DataFrame();\n",
    "    dfLabelsAugk['FileName']=fileNameAug\n",
    "    dfLabelsAugk['CoinorNoCoin']=CoinorNoCoinAug\n",
    "    dfLabelsAugk['Group']=GroupAug\n",
    "    dfLabelsAugk['CoinType']=CoinTypeAug\n",
    "    dfLabelsAug = dfLabelsAug.append(dfLabelsAugk)"
   ]
  },
  {
   "cell_type": "code",
   "execution_count": null,
   "metadata": {
    "collapsed": false
   },
   "outputs": [],
   "source": [
    "dfLabelsAug.to_csv(path_or_buf='labelsaug.csv',index=False)"
   ]
  }
 ],
 "metadata": {
  "anaconda-cloud": {},
  "kernelspec": {
   "display_name": "Python [default]",
   "language": "python",
   "name": "python3"
  },
  "language_info": {
   "codemirror_mode": {
    "name": "ipython",
    "version": 3
   },
   "file_extension": ".py",
   "mimetype": "text/x-python",
   "name": "python",
   "nbconvert_exporter": "python",
   "pygments_lexer": "ipython3",
   "version": "3.5.2"
  }
 },
 "nbformat": 4,
 "nbformat_minor": 1
}
