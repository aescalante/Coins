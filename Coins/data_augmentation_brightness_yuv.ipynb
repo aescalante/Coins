{
 "cells": [
  {
   "cell_type": "code",
   "execution_count": 5,
   "metadata": {
    "collapsed": false
   },
   "outputs": [
    {
     "name": "stdout",
     "output_type": "stream",
     "text": [
      "Data augmentation with brightness completed!\n"
     ]
    }
   ],
   "source": [
    "from PIL import Image;\n",
    "import numpy as np;\n",
    "import scipy as sci;\n",
    "import csv;\n",
    "import cv2;\n",
    "import matplotlib.pyplot as plt;\n",
    "import pandas as pd;\n",
    "import os\n",
    "from coins_utils import *\n",
    "\n",
    "   \n",
    "inputDir = 'CandidateDataSet2/augmented_and_resized_RAW/1cent/'\n",
    "input_file = [inputDir+i for i in os.listdir(inputDir) if '.jpg' in i]\n",
    "#input_file = glob.glob(inputDir+\"*.jpg\")\n",
    "#input_file = [inputDir+\"P70210-161658_Candidate_1_Aug_100_0.jpg\"]  #For debugging\n",
    "\n",
    "outputDir = 'CandidateDataSet2/augmented_and_resized_brightness_yuv_RAW/1cent/' #CHANGE IT!\n",
    "brightness = [-25, 0, 25]\n",
    "ROWS = 100\n",
    "COLS = 100\n",
    "\n",
    "for kfile in input_file:\n",
    "    for kbright in brightness:\n",
    "        tic()\n",
    "        #print(\"Augmenting image \"+str(kfile))\n",
    "        im = Image.open(kfile) #Open image\n",
    "        imarray = np.array(im)\n",
    "        imarray = cv2.resize(imarray, (ROWS, COLS), interpolation=cv2.INTER_CUBIC)\n",
    "        #imarray = cv2.erode(imarray, None, 1) \n",
    "        yuv = cv2.cvtColor(imarray, cv2.COLOR_BGR2YUV) #Convert it to yuv\n",
    "        y, u, v = cv2.split(yuv)\n",
    "        y = y.astype(np.int16)\n",
    "        y += kbright\n",
    "        y = np.maximum(np.zeros(y.shape),y)\n",
    "        y = np.minimum(255*np.ones(y.shape),y)\n",
    "        y = y.astype(np.uint8)\n",
    "        final_yuv = cv2.merge((y, u, v))\n",
    "        img_bright = cv2.cvtColor(final_yuv, cv2.COLOR_YUV2BGR)\n",
    "        #plt.imshow(img_bright)\n",
    "        #plt.show()\n",
    "        \n",
    "        #fileNamek = kfile.split(\"\\\\\")[1]\n",
    "        fileNamek = kfile.split(\"/\")[-1]\n",
    "        output_filename = outputDir+fileNamek.split(\".\")[0]+\"_Brightness_\"+str(kbright)+\".jpg\"\n",
    "        img = Image.fromarray(img_bright, 'RGB')\n",
    "        img.save(output_filename)\n",
    "        #print(output_filename)\n",
    "    #cv2.imwrite(\"image_processed.jpg\", img)\n",
    "    \n",
    "    \n",
    "    #for kAngle in angles:\n",
    "    #    M = cv2.getRotationMatrix2D((imarray.shape[1]/2,imarray.shape[0]/2),kAngle,1)\n",
    "    #    rotated_image = cv2.warpAffine(imarray,M,(imarray.shape[1],imarray.shape[0]))\n",
    "    #    plt.imshow(rotated_image)\n",
    "    #    plt.show()\n",
    "    #    fileNamek = kfile.split(\"\\\\\")[1]\n",
    "    #    output_filename = outputDir+fileNamek.split(\".\")[0]+\"_Aug_\"+str(kAngle)+\".jpg\"\n",
    "    #    img = Image.fromarray(rotated_image, 'RGB')\n",
    "    #    img.save(output_filename)\n",
    "print(\"Data augmentation with brightness completed!\")    "
   ]
  },
  {
   "cell_type": "markdown",
   "metadata": {
    "collapsed": false
   },
   "source": [
    "# Use data_ls to create the labels!"
   ]
  },
  {
   "cell_type": "code",
   "execution_count": null,
   "metadata": {
    "collapsed": true
   },
   "outputs": [],
   "source": []
  }
 ],
 "metadata": {
  "anaconda-cloud": {},
  "kernelspec": {
   "display_name": "Python [default]",
   "language": "python",
   "name": "python3"
  },
  "language_info": {
   "codemirror_mode": {
    "name": "ipython",
    "version": 3
   },
   "file_extension": ".py",
   "mimetype": "text/x-python",
   "name": "python",
   "nbconvert_exporter": "python",
   "pygments_lexer": "ipython3",
   "version": "3.5.2"
  }
 },
 "nbformat": 4,
 "nbformat_minor": 1
}
